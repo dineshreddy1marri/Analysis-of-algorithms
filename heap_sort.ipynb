{
 "cells": [
  {
   "cell_type": "code",
   "execution_count": 1,
   "metadata": {},
   "outputs": [],
   "source": [
    "import datetime;\n",
    "count=0;\n",
    "def heapify(array, n, i):\n",
    "    global count;\n",
    "    largest = i\n",
    "    l = 2 * i + 1\n",
    "    r = 2 * i + 2\n",
    "    count=count+1;\n",
    "    if l < n and array[i] < array[l]:\n",
    "        largest = l\n",
    "    count=count+1;\n",
    "    if r < n and array[largest] < array[r]:\n",
    "        largest = r\n",
    "    if largest != i:\n",
    "        array[i],array[largest] = array[largest],array[i]\n",
    "        heapify(array, n, largest)\n",
    "time1=datetime.datetime.now()\n",
    "def heapSort(array):\n",
    "    global count\n",
    "    n = len(array)\n",
    "    for i in range(n, -1, -1):\n",
    "        heapify(array, n, i)\n",
    "    for i in range(n-1, 0, -1):\n",
    "        array[i], array[0] = array[0], array[i]\n",
    "        heapify(array, i, 0)\n",
    "    time2=datetime.datetime.now()\n",
    "    time=time2-time1\n",
    "    return array,count,time"
   ]
  },
  {
   "cell_type": "code",
   "execution_count": 7,
   "metadata": {},
   "outputs": [],
   "source": [
    "import numpy as np;\n",
    "array=np.random.randint(0,100,100)"
   ]
  },
  {
   "cell_type": "code",
   "execution_count": 8,
   "metadata": {},
   "outputs": [],
   "source": [
    "inc_array=np.sort(array)"
   ]
  },
  {
   "cell_type": "code",
   "execution_count": 9,
   "metadata": {},
   "outputs": [],
   "source": [
    "dec_array=array[::-1]"
   ]
  }
 ],
 "metadata": {
  "kernelspec": {
   "display_name": "Python 3",
   "language": "python",
   "name": "python3"
  },
  "language_info": {
   "codemirror_mode": {
    "name": "ipython",
    "version": 3
   },
   "file_extension": ".py",
   "mimetype": "text/x-python",
   "name": "python",
   "nbconvert_exporter": "python",
   "pygments_lexer": "ipython3",
   "version": "3.7.1"
  }
 },
 "nbformat": 4,
 "nbformat_minor": 2
}
