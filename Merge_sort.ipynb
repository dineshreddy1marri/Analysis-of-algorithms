{
 "cells": [
  {
   "cell_type": "code",
   "execution_count": 3,
   "metadata": {},
   "outputs": [],
   "source": [
    "import datetime;\n",
    "time1=datetime.datetime.now()\n",
    "def mergeSort(array):\n",
    "    global time1;\n",
    "    count =0\n",
    "    if len(array)>1:\n",
    "        mid = len(array)//2\n",
    "        lefthalf = array[:mid]\n",
    "        righthalf = array[mid:]\n",
    "        \n",
    "        left = mergeSort(lefthalf)\n",
    "        right = mergeSort(righthalf)\n",
    "        \n",
    "        count += left[1] + right[1]\n",
    "        i=j=k=0       \n",
    "        while i < len(lefthalf) and j < len(righthalf):\n",
    "            count += 1\n",
    "            if lefthalf[i] < righthalf[j]:\n",
    "                array[k]=lefthalf[i]\n",
    "                i=i+1\n",
    "                \n",
    "            else:\n",
    "                array[k]=righthalf[j]\n",
    "                j=j+1\n",
    "                \n",
    "            k=k+1\n",
    "\n",
    "        while i < len(lefthalf):\n",
    "            array[k]=lefthalf[i]\n",
    "            i=i+1\n",
    "            k=k+1\n",
    "            count += 1\n",
    "\n",
    "        while j < len(righthalf):\n",
    "            array[k]=righthalf[j]\n",
    "            j=j+1\n",
    "            k=k+1\n",
    "            count += 1\n",
    "    time2=datetime.datetime.now()\n",
    "    time=time2-time1\n",
    "    return array,count,time"
   ]
  },
  {
   "cell_type": "code",
   "execution_count": null,
   "metadata": {},
   "outputs": [],
   "source": [
    "import numpy as np;\n",
    "array=np.random.randint(0,100,100)\n",
    "array"
   ]
  },
  {
   "cell_type": "code",
   "execution_count": null,
   "metadata": {},
   "outputs": [],
   "source": [
    "inc_array=np.sort(array)\n",
    "inc_array"
   ]
  },
  {
   "cell_type": "code",
   "execution_count": null,
   "metadata": {},
   "outputs": [],
   "source": [
    "dec_array=array[::-1]\n",
    "dec_array"
   ]
  }
 ],
 "metadata": {
  "kernelspec": {
   "display_name": "Python 3",
   "language": "python",
   "name": "python3"
  },
  "language_info": {
   "codemirror_mode": {
    "name": "ipython",
    "version": 3
   },
   "file_extension": ".py",
   "mimetype": "text/x-python",
   "name": "python",
   "nbconvert_exporter": "python",
   "pygments_lexer": "ipython3",
   "version": "3.7.1"
  }
 },
 "nbformat": 4,
 "nbformat_minor": 2
}
