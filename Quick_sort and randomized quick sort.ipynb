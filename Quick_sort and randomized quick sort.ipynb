{
 "cells": [
  {
   "cell_type": "code",
   "execution_count": 19,
   "metadata": {},
   "outputs": [],
   "source": [
    "import datetime;\n",
    "time1=datetime.datetime.now()\n",
    "count=0\n",
    "array=[0,7,2,1,8,9,10]\n",
    "def quick_sort(array,l=0,m=len(array)-1):\n",
    "    global time1\n",
    "    global count\n",
    "    if(l<m):\n",
    "        pivot=m;\n",
    "        greater=[]\n",
    "        lesser=[];\n",
    "        for i in range(l,m+1):\n",
    "            if(i!=pivot):\n",
    "                count=count+1;\n",
    "                if(array[i]<=array[pivot]):\n",
    "                    lesser.append(array[i]);\n",
    "                else:\n",
    "                    greater.append(array[i]);\n",
    "        array[l+len(lesser)]=array[pivot];\n",
    "        j=0;\n",
    "        k=0;\n",
    "        for i in range(l,m+1):\n",
    "            if(i!=l+len(lesser)):\n",
    "                if(i<l+len(lesser)):\n",
    "                    array[i]=lesser[j];\n",
    "                    j=j+1;\n",
    "                else:\n",
    "                    array[i]=greater[k];\n",
    "                    k=k+1;\n",
    "        quick_sort(array,l,l+len(lesser)-1);\n",
    "        quick_sort(array,l+len(lesser)+1,m);\n",
    "    time2=datetime.datetime.now()\n",
    "    time=time2-time1\n",
    "    return array,count,time"
   ]
  },
  {
   "cell_type": "code",
   "execution_count": 24,
   "metadata": {},
   "outputs": [],
   "source": [
    "import datetime;\n",
    "count=0;\n",
    "import random\n",
    "time1=datetime.datetime.now()\n",
    "def randomized_quick_sort(array,l=0,m=len(array)-1):\n",
    "    global time1\n",
    "    global count;\n",
    "    if(l<m):\n",
    "        pivot = random.randint(l,m);\n",
    "        greater=[]\n",
    "        lesser=[];\n",
    "        for i in range(l,m+1):\n",
    "            if(i!=pivot):\n",
    "                count=count+1;\n",
    "                if(array[i]<=array[pivot]):\n",
    "                    lesser.append(array[i]);\n",
    "                else:\n",
    "                    greater.append(array[i]);\n",
    "        array[l+len(lesser)]=array[pivot];\n",
    "        j=0;\n",
    "        k=0;\n",
    "        for i in range(l,m+1):\n",
    "            if(i!=l+len(lesser)):\n",
    "                if(i<l+len(lesser)):\n",
    "                    array[i]=lesser[j];\n",
    "                    j=j+1;\n",
    "                else:\n",
    "                    array[i]=greater[k];\n",
    "                    k=k+1;\n",
    "        randomized_quick_sort(array,l,l+len(lesser)-1);\n",
    "        randomized_quick_sort(array,l+len(lesser)+1,m);\n",
    "    time2=datetime.datetime.now()\n",
    "    time=time2-time1\n",
    "    return array,count,time\n"
   ]
  },
  {
   "cell_type": "code",
   "execution_count": null,
   "metadata": {},
   "outputs": [],
   "source": [
    "import numpy as np;\n",
    "my_array=np.empty([10,10]);\n",
    "for i in range(0,10):\n",
    "    for j in range(0,10):\n",
    "        x=int(input())\n",
    "        my_array[i][j]=x"
   ]
  },
  {
   "cell_type": "code",
   "execution_count": null,
   "metadata": {},
   "outputs": [],
   "source": [
    "print(my_array)"
   ]
  },
  {
   "cell_type": "code",
   "execution_count": null,
   "metadata": {},
   "outputs": [],
   "source": [
    "import numpy as np;\n",
    "array=np.random.randint(0,100,100)\n",
    "array"
   ]
  },
  {
   "cell_type": "code",
   "execution_count": null,
   "metadata": {},
   "outputs": [],
   "source": [
    "inc_array=np.sort(array)\n",
    "inc_array"
   ]
  },
  {
   "cell_type": "code",
   "execution_count": null,
   "metadata": {},
   "outputs": [],
   "source": [
    "dec_array=array[::-1]\n",
    "dec_array"
   ]
  }
 ],
 "metadata": {
  "kernelspec": {
   "display_name": "Python 3",
   "language": "python",
   "name": "python3"
  },
  "language_info": {
   "codemirror_mode": {
    "name": "ipython",
    "version": 3
   },
   "file_extension": ".py",
   "mimetype": "text/x-python",
   "name": "python",
   "nbconvert_exporter": "python",
   "pygments_lexer": "ipython3",
   "version": "3.7.1"
  }
 },
 "nbformat": 4,
 "nbformat_minor": 2
}
