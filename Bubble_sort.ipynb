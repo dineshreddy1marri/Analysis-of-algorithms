{
 "cells": [
  {
   "cell_type": "code",
   "execution_count": 1,
   "metadata": {},
   "outputs": [],
   "source": [
    "import datetime;\n",
    "time1=datetime.datetime.now()\n",
    "def bubble_sort(array):\n",
    "    global time1;\n",
    "    count=0;\n",
    "    k=len(array);\n",
    "    for j in range(0,len(array)):\n",
    "         for i in range(0,k):\n",
    "            if(i==len(array)-1):\n",
    "                break;\n",
    "            if(array[i]>array[i+1]):\n",
    "                temp=array[i];\n",
    "                array[i]=array[i+1];\n",
    "                array[i+1]=temp;\n",
    "            count=count+1;\n",
    "    time2=datetime.datetime.now()\n",
    "    time=time2-time1\n",
    "    return array,count,time\n"
   ]
  },
  {
   "cell_type": "code",
   "execution_count": 4,
   "metadata": {},
   "outputs": [
    {
     "data": {
      "text/plain": [
       "(array([ 0,  1,  4,  5,  6,  9, 10, 12, 13, 13, 16, 19, 19, 19, 21, 23, 24,\n",
       "        25, 27, 29, 30, 31, 32, 33, 35, 36, 37, 38, 38, 39, 39, 40, 40, 40,\n",
       "        42, 42, 43, 43, 44, 45, 46, 47, 47, 47, 48, 48, 50, 54, 56, 57, 59,\n",
       "        60, 62, 62, 64, 64, 64, 64, 67, 67, 68, 69, 70, 71, 71, 72, 74, 74,\n",
       "        74, 74, 76, 78, 78, 78, 78, 79, 79, 80, 80, 81, 82, 82, 82, 82, 83,\n",
       "        83, 83, 86, 87, 87, 89, 89, 90, 93, 93, 98, 98, 99, 99, 99]),\n",
       " 9900,\n",
       " datetime.timedelta(seconds=10923, microseconds=613978))"
      ]
     },
     "execution_count": 4,
     "metadata": {},
     "output_type": "execute_result"
    }
   ],
   "source": [
    "import numpy as np;\n",
    "array=np.random.randint(0,100,100)\n",
    "array\n",
    "bubble_sort(array)"
   ]
  },
  {
   "cell_type": "code",
   "execution_count": 5,
   "metadata": {},
   "outputs": [
    {
     "data": {
      "text/plain": [
       "(array([ 0,  1,  4,  5,  6,  9, 10, 12, 13, 13, 16, 19, 19, 19, 21, 23, 24,\n",
       "        25, 27, 29, 30, 31, 32, 33, 35, 36, 37, 38, 38, 39, 39, 40, 40, 40,\n",
       "        42, 42, 43, 43, 44, 45, 46, 47, 47, 47, 48, 48, 50, 54, 56, 57, 59,\n",
       "        60, 62, 62, 64, 64, 64, 64, 67, 67, 68, 69, 70, 71, 71, 72, 74, 74,\n",
       "        74, 74, 76, 78, 78, 78, 78, 79, 79, 80, 80, 81, 82, 82, 82, 82, 83,\n",
       "        83, 83, 86, 87, 87, 89, 89, 90, 93, 93, 98, 98, 99, 99, 99]),\n",
       " 9900,\n",
       " datetime.timedelta(seconds=10960, microseconds=212319))"
      ]
     },
     "execution_count": 5,
     "metadata": {},
     "output_type": "execute_result"
    }
   ],
   "source": [
    "inc_array=np.sort(array)\n",
    "inc_array\n",
    "bubble_sort(inc_array)"
   ]
  },
  {
   "cell_type": "code",
   "execution_count": 6,
   "metadata": {},
   "outputs": [
    {
     "data": {
      "text/plain": [
       "(array([ 0,  1,  4,  5,  6,  9, 10, 12, 13, 13, 16, 19, 19, 19, 21, 23, 24,\n",
       "        25, 27, 29, 30, 31, 32, 33, 35, 36, 37, 38, 38, 39, 39, 40, 40, 40,\n",
       "        42, 42, 43, 43, 44, 45, 46, 47, 47, 47, 48, 48, 50, 54, 56, 57, 59,\n",
       "        60, 62, 62, 64, 64, 64, 64, 67, 67, 68, 69, 70, 71, 71, 72, 74, 74,\n",
       "        74, 74, 76, 78, 78, 78, 78, 79, 79, 80, 80, 81, 82, 82, 82, 82, 83,\n",
       "        83, 83, 86, 87, 87, 89, 89, 90, 93, 93, 98, 98, 99, 99, 99]),\n",
       " 9900,\n",
       " datetime.timedelta(seconds=10986, microseconds=849614))"
      ]
     },
     "execution_count": 6,
     "metadata": {},
     "output_type": "execute_result"
    }
   ],
   "source": [
    "dec_array=array[::-1]\n",
    "dec_array\n",
    "bubble_sort(dec_array)"
   ]
  },
  {
   "cell_type": "code",
   "execution_count": null,
   "metadata": {},
   "outputs": [],
   "source": []
  }
 ],
 "metadata": {
  "kernelspec": {
   "display_name": "Python 3",
   "language": "python",
   "name": "python3"
  },
  "language_info": {
   "codemirror_mode": {
    "name": "ipython",
    "version": 3
   },
   "file_extension": ".py",
   "mimetype": "text/x-python",
   "name": "python",
   "nbconvert_exporter": "python",
   "pygments_lexer": "ipython3",
   "version": "3.7.1"
  }
 },
 "nbformat": 4,
 "nbformat_minor": 2
}
