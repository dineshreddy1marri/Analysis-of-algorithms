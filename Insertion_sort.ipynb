{
 "cells": [
  {
   "cell_type": "code",
   "execution_count": 1,
   "metadata": {},
   "outputs": [],
   "source": [
    "import datetime;\n",
    "\n",
    "def insertion_sort(array):\n",
    "    a=datetime.datetime.now();\n",
    "    count=0\n",
    "    for i in range(1,len(array)):\n",
    "        for j in range(0,i+1):\n",
    "            count=count+1\n",
    "            if(array[j]>array[i]) :\n",
    "                u=array[i]\n",
    "                for y in range(i,j,-1) :\n",
    "                    array[y]=array[y-1]\n",
    "                array[j]=u\n",
    "    b=datetime.datetime.now()\n",
    "    return array,count,b-a"
   ]
  },
  {
   "cell_type": "code",
   "execution_count": 7,
   "metadata": {},
   "outputs": [
    {
     "data": {
      "text/plain": [
       "(array([ 0,  1,  1,  4,  5,  5,  5,  5,  8, 10, 11, 11, 12, 13, 13, 17, 17,\n",
       "        19, 19, 20, 20, 21, 22, 27, 28, 33, 33, 34, 34, 36, 39, 42, 43, 43,\n",
       "        44, 44, 45, 45, 45, 46, 47, 47, 49, 50, 51, 51, 53, 53, 54, 55, 58,\n",
       "        58, 59, 59, 62, 62, 65, 65, 66, 67, 67, 68, 68, 71, 71, 71, 73, 74,\n",
       "        75, 76, 77, 78, 79, 79, 82, 82, 83, 83, 83, 84, 86, 86, 87, 88, 89,\n",
       "        89, 90, 91, 91, 91, 92, 92, 93, 93, 94, 95, 97, 98, 98, 98]),\n",
       " 5049,\n",
       " datetime.timedelta(microseconds=7263))"
      ]
     },
     "execution_count": 7,
     "metadata": {},
     "output_type": "execute_result"
    }
   ],
   "source": [
    "import numpy as np;\n",
    "array=np.random.randint(0,100,100)\n",
    "insertion_sort(array)"
   ]
  },
  {
   "cell_type": "code",
   "execution_count": 6,
   "metadata": {},
   "outputs": [
    {
     "data": {
      "text/plain": [
       "(array([ 0,  1,  3,  3,  4,  6,  6,  6,  7,  7,  7,  7,  8,  8,  8, 11, 11,\n",
       "        12, 13, 14, 14, 15, 16, 16, 17, 17, 18, 19, 19, 21, 23, 24, 26, 27,\n",
       "        27, 27, 28, 29, 29, 30, 32, 33, 35, 35, 38, 38, 44, 45, 46, 46, 47,\n",
       "        50, 51, 51, 52, 53, 53, 54, 57, 57, 57, 60, 61, 61, 62, 65, 67, 67,\n",
       "        71, 73, 73, 73, 73, 73, 75, 75, 75, 76, 76, 79, 79, 80, 81, 85, 86,\n",
       "        87, 88, 88, 88, 89, 89, 90, 92, 92, 93, 95, 95, 97, 97, 99]),\n",
       " 5049,\n",
       " datetime.timedelta(microseconds=5575))"
      ]
     },
     "execution_count": 6,
     "metadata": {},
     "output_type": "execute_result"
    }
   ],
   "source": [
    "inc_array=np.sort(array)\n",
    "inc_array\n",
    "insertion_sort(inc_array)"
   ]
  },
  {
   "cell_type": "code",
   "execution_count": 8,
   "metadata": {},
   "outputs": [
    {
     "data": {
      "text/plain": [
       "(array([ 0,  1,  1,  4,  5,  5,  5,  5,  8, 10, 11, 11, 12, 13, 13, 17, 17,\n",
       "        19, 19, 20, 20, 21, 22, 27, 28, 33, 33, 34, 34, 36, 39, 42, 43, 43,\n",
       "        44, 44, 45, 45, 45, 46, 47, 47, 49, 50, 51, 51, 53, 53, 54, 55, 58,\n",
       "        58, 59, 59, 62, 62, 65, 65, 66, 67, 67, 68, 68, 71, 71, 71, 73, 74,\n",
       "        75, 76, 77, 78, 79, 79, 82, 82, 83, 83, 83, 84, 86, 86, 87, 88, 89,\n",
       "        89, 90, 91, 91, 91, 92, 92, 93, 93, 94, 95, 97, 98, 98, 98]),\n",
       " 5049,\n",
       " datetime.timedelta(microseconds=6994))"
      ]
     },
     "execution_count": 8,
     "metadata": {},
     "output_type": "execute_result"
    }
   ],
   "source": [
    "dec_array=array[::-1]\n",
    "dec_array\n",
    "insertion_sort(dec_array)"
   ]
  },
  {
   "cell_type": "code",
   "execution_count": null,
   "metadata": {},
   "outputs": [],
   "source": []
  }
 ],
 "metadata": {
  "kernelspec": {
   "display_name": "Python 3",
   "language": "python",
   "name": "python3"
  },
  "language_info": {
   "codemirror_mode": {
    "name": "ipython",
    "version": 3
   },
   "file_extension": ".py",
   "mimetype": "text/x-python",
   "name": "python",
   "nbconvert_exporter": "python",
   "pygments_lexer": "ipython3",
   "version": "3.7.1"
  }
 },
 "nbformat": 4,
 "nbformat_minor": 2
}
