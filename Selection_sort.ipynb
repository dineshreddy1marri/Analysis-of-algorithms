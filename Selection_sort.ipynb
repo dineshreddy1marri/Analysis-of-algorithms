{
 "cells": [
  {
   "cell_type": "code",
   "execution_count": 14,
   "metadata": {},
   "outputs": [],
   "source": [
    "import datetime;\n",
    "\n",
    "def find_leastvalue(i,j,array):\n",
    "    location=i;\n",
    "    if(i<=j):\n",
    "        for item in range(i+1,j):\n",
    "            if(array[item]<array[location]):\n",
    "                location=item;\n",
    "    return location\n",
    "time1=datetime.datetime.now()\n",
    "def selection_sort(array):\n",
    "    global time1;\n",
    "    count=0;\n",
    "    k=0;\n",
    "    for i in range(0,len(array)):\n",
    "        if(i==len(array)-1):\n",
    "            break;\n",
    "        k=find_leastvalue(i+1,len(array),array);\n",
    "        count=count+1;\n",
    "        if(array[i]>array[k]):\n",
    "            temp=array[i];\n",
    "            array[i]=array[k];\n",
    "            array[k]=temp;\n",
    "    time2=datetime.datetime.now()\n",
    "    time=time2-time1\n",
    "    return array,count,time\n"
   ]
  },
  {
   "cell_type": "code",
   "execution_count": 16,
   "metadata": {},
   "outputs": [
    {
     "data": {
      "text/plain": [
       "(array([ 0,  1,  1,  3,  5,  6,  7,  7,  8,  9, 11, 12, 12, 13, 17, 19, 21,\n",
       "        21, 23, 25, 25, 26, 28, 28, 29, 31, 32, 35, 36, 38, 38, 40, 40, 41,\n",
       "        42, 43, 43, 47, 47, 47, 48, 49, 49, 49, 51, 52, 55, 56, 56, 57, 58,\n",
       "        58, 58, 59, 59, 60, 61, 63, 64, 65, 65, 65, 65, 66, 67, 70, 70, 71,\n",
       "        71, 71, 72, 72, 73, 78, 79, 79, 79, 79, 80, 80, 80, 81, 81, 81, 82,\n",
       "        84, 86, 87, 90, 90, 95, 95, 95, 95, 96, 96, 96, 97, 98, 99]),\n",
       " 99,\n",
       " datetime.timedelta(seconds=38, microseconds=817152))"
      ]
     },
     "execution_count": 16,
     "metadata": {},
     "output_type": "execute_result"
    }
   ],
   "source": [
    "import numpy as np;\n",
    "array=np.random.randint(0,100,100)\n",
    "array\n",
    "selection_sort(array)"
   ]
  },
  {
   "cell_type": "code",
   "execution_count": 17,
   "metadata": {},
   "outputs": [
    {
     "data": {
      "text/plain": [
       "(array([ 0,  1,  1,  3,  5,  6,  7,  7,  8,  9, 11, 12, 12, 13, 17, 19, 21,\n",
       "        21, 23, 25, 25, 26, 28, 28, 29, 31, 32, 35, 36, 38, 38, 40, 40, 41,\n",
       "        42, 43, 43, 47, 47, 47, 48, 49, 49, 49, 51, 52, 55, 56, 56, 57, 58,\n",
       "        58, 58, 59, 59, 60, 61, 63, 64, 65, 65, 65, 65, 66, 67, 70, 70, 71,\n",
       "        71, 71, 72, 72, 73, 78, 79, 79, 79, 79, 80, 80, 80, 81, 81, 81, 82,\n",
       "        84, 86, 87, 90, 90, 95, 95, 95, 95, 96, 96, 96, 97, 98, 99]),\n",
       " 99,\n",
       " datetime.timedelta(seconds=82, microseconds=467680))"
      ]
     },
     "execution_count": 17,
     "metadata": {},
     "output_type": "execute_result"
    }
   ],
   "source": [
    "inc_array=np.sort(array)\n",
    "inc_array\n",
    "selection_sort(inc_array)"
   ]
  },
  {
   "cell_type": "code",
   "execution_count": 18,
   "metadata": {},
   "outputs": [
    {
     "data": {
      "text/plain": [
       "(array([ 0,  1,  1,  3,  5,  6,  7,  7,  8,  9, 11, 12, 12, 13, 17, 19, 21,\n",
       "        21, 23, 25, 25, 26, 28, 28, 29, 31, 32, 35, 36, 38, 38, 40, 40, 41,\n",
       "        42, 43, 43, 47, 47, 47, 48, 49, 49, 49, 51, 52, 55, 56, 56, 57, 58,\n",
       "        58, 58, 59, 59, 60, 61, 63, 64, 65, 65, 65, 65, 66, 67, 70, 70, 71,\n",
       "        71, 71, 72, 72, 73, 78, 79, 79, 79, 79, 80, 80, 80, 81, 81, 81, 82,\n",
       "        84, 86, 87, 90, 90, 95, 95, 95, 95, 96, 96, 96, 97, 98, 99]),\n",
       " 99,\n",
       " datetime.timedelta(seconds=123, microseconds=375892))"
      ]
     },
     "execution_count": 18,
     "metadata": {},
     "output_type": "execute_result"
    }
   ],
   "source": [
    "dec_array=array[::-1]\n",
    "dec_array\n",
    "selection_sort(dec_array)"
   ]
  },
  {
   "cell_type": "code",
   "execution_count": 12,
   "metadata": {},
   "outputs": [
    {
     "data": {
      "text/plain": [
       "(array([ 1,  1,  2,  2,  3,  5,  5,  6,  9, 10, 10, 11, 12, 12, 14, 14, 15,\n",
       "        16, 17, 17, 18, 18, 19, 20, 23, 24, 24, 26, 27, 27, 28, 28, 29, 30,\n",
       "        34, 35, 37, 37, 38, 40, 40, 42, 43, 44, 44, 47, 48, 49, 49, 52, 53,\n",
       "        53, 54, 54, 54, 56, 57, 57, 58, 58, 60, 61, 62, 63, 64, 65, 65, 66,\n",
       "        66, 67, 68, 68, 69, 69, 72, 75, 76, 77, 79, 80, 80, 81, 81, 82, 82,\n",
       "        83, 84, 85, 87, 89, 89, 91, 91, 91, 92, 93, 94, 96, 97, 97]),\n",
       " 99,\n",
       " datetime.timedelta(seconds=3, microseconds=643961))"
      ]
     },
     "execution_count": 12,
     "metadata": {},
     "output_type": "execute_result"
    }
   ],
   "source": [
    "selection_sort(array)"
   ]
  },
  {
   "cell_type": "code",
   "execution_count": null,
   "metadata": {},
   "outputs": [],
   "source": []
  }
 ],
 "metadata": {
  "kernelspec": {
   "display_name": "Python 3",
   "language": "python",
   "name": "python3"
  },
  "language_info": {
   "codemirror_mode": {
    "name": "ipython",
    "version": 3
   },
   "file_extension": ".py",
   "mimetype": "text/x-python",
   "name": "python",
   "nbconvert_exporter": "python",
   "pygments_lexer": "ipython3",
   "version": "3.7.1"
  }
 },
 "nbformat": 4,
 "nbformat_minor": 2
}
